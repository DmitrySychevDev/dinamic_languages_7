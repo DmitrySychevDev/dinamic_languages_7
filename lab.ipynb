{
 "cells": [
  {
   "cell_type": "markdown",
   "metadata": {},
   "source": [
    "# Лабораторная работа №1 "
   ]
  },
  {
   "cell_type": "markdown",
   "metadata": {},
   "source": [
    "### Задание 1"
   ]
  },
  {
   "cell_type": "markdown",
   "metadata": {},
   "source": [
    "Найти набор данных (датасет) для классификации удовлетворяющий следующим условиям: более 10 000 строк, более 20 столбцов, разные типы в столбцах, обязательно наличие целевого признака (таргета).(Документация датасета находится в корне, в файле datasheet.pdf)"
   ]
  },
  {
   "cell_type": "markdown",
   "metadata": {},
   "source": [
    "### Задание 2"
   ]
  },
  {
   "cell_type": "markdown",
   "metadata": {},
   "source": [
    "Провести классификацию найденного датасета, методом к- ближайших соседей. В формате Markdown писать пояснения. Объяснить почему были выбраны именно такие гиперпараметры, была ли перекрестная проверка, и т.д."
   ]
  },
  {
   "cell_type": "markdown",
   "metadata": {},
   "source": [
    "### Шаг 1. Подготовка данных"
   ]
  },
  {
   "cell_type": "code",
   "execution_count": 11,
   "metadata": {},
   "outputs": [
    {
     "name": "stdout",
     "output_type": "stream",
     "text": [
      "        fraud_bool  income  name_email_similarity  prev_address_months_count  \\\n",
      "0                1     0.9               0.166828                         -1   \n",
      "1                1     0.9               0.296286                         -1   \n",
      "2                1     0.9               0.044985                         -1   \n",
      "3                1     0.9               0.159511                         -1   \n",
      "4                1     0.9               0.596414                         -1   \n",
      "...            ...     ...                    ...                        ...   \n",
      "999995           0     0.6               0.192631                         -1   \n",
      "999996           0     0.8               0.322989                        148   \n",
      "999997           0     0.8               0.879403                         -1   \n",
      "999998           0     0.9               0.762112                         -1   \n",
      "999999           0     0.2               0.697452                         -1   \n",
      "\n",
      "        current_address_months_count  customer_age  days_since_request  \\\n",
      "0                                 88            50            0.020925   \n",
      "1                                144            50            0.005418   \n",
      "2                                132            40            3.108549   \n",
      "3                                 22            50            0.019079   \n",
      "4                                218            50            0.004441   \n",
      "...                              ...           ...                 ...   \n",
      "999995                           104            40            0.030592   \n",
      "999996                             9            50            1.628119   \n",
      "999997                            30            20            0.018563   \n",
      "999998                           189            20            0.015352   \n",
      "999999                           321            20            2.655916   \n",
      "\n",
      "        intended_balcon_amount payment_type  zip_count_4w  ...  \\\n",
      "0                    -1.331345           AA           769  ...   \n",
      "1                    -0.816224           AB           366  ...   \n",
      "2                    -0.755728           AC           870  ...   \n",
      "3                    -1.205124           AB           810  ...   \n",
      "4                    -0.773276           AB           890  ...   \n",
      "...                        ...          ...           ...  ...   \n",
      "999995               -1.044454           AB           804  ...   \n",
      "999996               -1.409803           AC          3306  ...   \n",
      "999997               34.692760           AA          1522  ...   \n",
      "999998               94.661055           AA          1418  ...   \n",
      "999999                9.908499           AA           951  ...   \n",
      "\n",
      "        has_other_cards  proposed_credit_limit  foreign_request    source  \\\n",
      "0                     0                  500.0                0  INTERNET   \n",
      "1                     0                 1500.0                0  INTERNET   \n",
      "2                     0                  200.0                0  INTERNET   \n",
      "3                     1                  200.0                0  INTERNET   \n",
      "4                     0                 1500.0                0  INTERNET   \n",
      "...                 ...                    ...              ...       ...   \n",
      "999995                0                  200.0                0  INTERNET   \n",
      "999996                0                  200.0                0  INTERNET   \n",
      "999997                0                  200.0                0  INTERNET   \n",
      "999998                0                  500.0                0  INTERNET   \n",
      "999999                0                  200.0                0  INTERNET   \n",
      "\n",
      "        session_length_in_minutes  device_os  keep_alive_session  \\\n",
      "0                        3.888115    windows                   0   \n",
      "1                       31.798819    windows                   0   \n",
      "2                        4.728705      other                   0   \n",
      "3                        2.047904      linux                   0   \n",
      "4                        3.775225  macintosh                   1   \n",
      "...                           ...        ...                 ...   \n",
      "999995                   8.511502      linux                   1   \n",
      "999996                   8.967865    windows                   0   \n",
      "999997                   8.195531      other                   0   \n",
      "999998                   4.336064    windows                   1   \n",
      "999999                   6.717022      linux                   0   \n",
      "\n",
      "        device_distinct_emails_8w device_fraud_count  month  \n",
      "0                               1                  0      7  \n",
      "1                               1                  0      7  \n",
      "2                               1                  0      7  \n",
      "3                               1                  0      7  \n",
      "4                               1                  0      7  \n",
      "...                           ...                ...    ...  \n",
      "999995                          1                  0      4  \n",
      "999996                          1                  0      4  \n",
      "999997                          1                  0      4  \n",
      "999998                          1                  0      4  \n",
      "999999                          1                  0      4  \n",
      "\n",
      "[1000000 rows x 32 columns]\n"
     ]
    }
   ],
   "source": [
    "import pandas as pd\n",
    "from sklearn.model_selection import train_test_split, GridSearchCV\n",
    "from sklearn.preprocessing import StandardScaler\n",
    "from sklearn.neighbors import KNeighborsClassifier\n",
    "from sklearn.metrics import accuracy_score, classification_report\n",
    "\n",
    "# Загрузка данных\n",
    "df = pd.read_csv(\"../Base.csv\")\n",
    "\n",
    "print(df)"
   ]
  },
  {
   "cell_type": "markdown",
   "metadata": {},
   "source": [
    "### Шаг 2. Разделение данных и нормализация"
   ]
  },
  {
   "cell_type": "code",
   "execution_count": 12,
   "metadata": {},
   "outputs": [
    {
     "name": "stdout",
     "output_type": "stream",
     "text": [
      "Размер обучающего набора: (800000, 52)\n",
      "Размер тестового набора: (200000, 52)\n"
     ]
    }
   ],
   "source": [
    "# Разделение данных на признаки (X) и целевую переменную (y)\n",
    "X = df.drop(\"fraud_bool\", axis=1)\n",
    "y = df[\"fraud_bool\"]\n",
    "\n",
    "# Разделение на тренировочные и тестовые данные\n",
    "X_train, X_test, y_train, y_test = train_test_split(X, y, test_size=0.2, random_state=42)\n",
    "\n",
    "X_train = pd.get_dummies(X_train)\n",
    "X_test = pd.get_dummies(X_test)\n",
    "\n",
    "# Стандартизация данных\n",
    "scaler = StandardScaler()\n",
    "X_train = scaler.fit_transform(X_train)\n",
    "X_test = scaler.transform(X_test)\n",
    "\n",
    "print(f\"Размер обучающего набора: {X_train.shape}\")\n",
    "print(f\"Размер тестового набора: {X_test.shape}\")\n"
   ]
  },
  {
   "cell_type": "markdown",
   "metadata": {},
   "source": [
    "###  Подбор гиперпараметров и обучение модели"
   ]
  },
  {
   "cell_type": "code",
   "execution_count": 13,
   "metadata": {},
   "outputs": [
    {
     "name": "stdout",
     "output_type": "stream",
     "text": [
      "Fitting 5 folds for each of 36 candidates, totalling 180 fits\n",
      "[CV 1/5] END ...metric=euclidean, n_neighbors=2;, score=0.989 total time= 4.4min\n",
      "[CV 2/5] END ...metric=euclidean, n_neighbors=2;, score=0.989 total time= 4.5min\n",
      "[CV 3/5] END ...metric=euclidean, n_neighbors=2;, score=0.989 total time= 4.7min\n",
      "[CV 4/5] END ...metric=euclidean, n_neighbors=2;, score=0.989 total time= 4.5min\n",
      "[CV 5/5] END ...metric=euclidean, n_neighbors=2;, score=0.989 total time= 4.5min\n",
      "[CV 1/5] END ...metric=euclidean, n_neighbors=3;, score=0.988 total time= 5.1min\n",
      "[CV 2/5] END ...metric=euclidean, n_neighbors=3;, score=0.988 total time= 4.7min\n",
      "[CV 3/5] END ...metric=euclidean, n_neighbors=3;, score=0.988 total time= 4.9min\n",
      "[CV 4/5] END ...metric=euclidean, n_neighbors=3;, score=0.988 total time= 5.3min\n",
      "[CV 5/5] END ...metric=euclidean, n_neighbors=3;, score=0.988 total time= 5.1min\n",
      "[CV 1/5] END ...metric=euclidean, n_neighbors=4;, score=0.989 total time= 5.4min\n",
      "[CV 2/5] END ...metric=euclidean, n_neighbors=4;, score=0.989 total time= 5.6min\n",
      "[CV 3/5] END ...metric=euclidean, n_neighbors=4;, score=0.989 total time= 4.6min\n",
      "[CV 4/5] END ...metric=euclidean, n_neighbors=4;, score=0.989 total time= 4.8min\n",
      "[CV 5/5] END ...metric=euclidean, n_neighbors=4;, score=0.989 total time= 5.3min\n",
      "[CV 1/5] END ...metric=euclidean, n_neighbors=5;, score=0.989 total time= 5.2min\n",
      "[CV 2/5] END ...metric=euclidean, n_neighbors=5;, score=0.989 total time= 4.8min\n",
      "[CV 3/5] END ...metric=euclidean, n_neighbors=5;, score=0.989 total time= 5.5min\n",
      "[CV 4/5] END ...metric=euclidean, n_neighbors=5;, score=0.989 total time= 5.2min\n",
      "[CV 5/5] END ...metric=euclidean, n_neighbors=5;, score=0.989 total time= 5.5min\n",
      "[CV 1/5] END ...metric=euclidean, n_neighbors=6;, score=0.989 total time= 5.7min\n"
     ]
    }
   ],
   "source": [
    "knn = KNeighborsClassifier()\n",
    "\n",
    "param_grid = {'n_neighbors': list(range(2, 11)), 'metric': ['euclidean', 'manhattan', 'chebyshev', 'minkowski']}\n",
    "\n",
    "grid = GridSearchCV(knn, param_grid, refit=True, verbose=3, cv=5)\n",
    "# Обучение модели\n",
    "grid.fit(X_train, y_train)\n",
    "\n",
    "best_params = grid.best_params_\n",
    "best_knn = grid.best_estimator_"
   ]
  },
  {
   "cell_type": "markdown",
   "metadata": {},
   "source": [
    "### Обоснование выбора гиперпараметров"
   ]
  },
  {
   "cell_type": "code",
   "execution_count": null,
   "metadata": {},
   "outputs": [
    {
     "name": "stdout",
     "output_type": "stream",
     "text": [
      "Accuracy: 0.988575\n",
      "Classification Report:\n",
      "               precision    recall  f1-score   support\n",
      "\n",
      "           0       0.99      1.00      0.99    197776\n",
      "           1       0.24      0.01      0.02      2224\n",
      "\n",
      "    accuracy                           0.99    200000\n",
      "   macro avg       0.61      0.51      0.51    200000\n",
      "weighted avg       0.98      0.99      0.98    200000\n",
      "\n"
     ]
    }
   ],
   "source": [
    "# Инициализация и обучение модели методом ближайших соседей\n",
    "predictions = best_knn.predict(X_test)\n",
    "\n",
    "# Предсказание на тестовых данных\n",
    "y_pred = knn.predict(X_test)\n",
    "\n",
    "# Оценка качества модели\n",
    "accuracy = accuracy_score(y_test, predictions)\n",
    "report = classification_report(y_test, predictions)\n",
    "\n",
    "print(f\"Accuracy: {accuracy}\")\n",
    "print(\"Classification Report:\\n\", report)"
   ]
  }
 ],
 "metadata": {
  "kernelspec": {
   "display_name": "Python 3",
   "language": "python",
   "name": "python3"
  },
  "language_info": {
   "codemirror_mode": {
    "name": "ipython",
    "version": 3
   },
   "file_extension": ".py",
   "mimetype": "text/x-python",
   "name": "python",
   "nbconvert_exporter": "python",
   "pygments_lexer": "ipython3",
   "version": "3.12.0"
  }
 },
 "nbformat": 4,
 "nbformat_minor": 2
}
